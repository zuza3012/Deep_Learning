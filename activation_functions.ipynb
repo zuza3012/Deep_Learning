{
  "nbformat": 4,
  "nbformat_minor": 0,
  "metadata": {
    "colab": {
      "name": "activation_functions.ipynb",
      "provenance": [],
      "collapsed_sections": [],
      "authorship_tag": "ABX9TyPqCy6D6ckqTngumrGQplWG"
    },
    "kernelspec": {
      "name": "python3",
      "display_name": "Python 3"
    },
    "language_info": {
      "name": "python"
    }
  },
  "cells": [
    {
      "cell_type": "markdown",
      "metadata": {
        "id": "NkeoHzDfX47p"
      },
      "source": [
        ""
      ]
    },
    {
      "cell_type": "markdown",
      "metadata": {
        "id": "GMy8S6WRYsoT"
      },
      "source": [
        "# Activation functions\n",
        "\n",
        "### ReLU\n",
        "\n",
        "$f(x) = max(0,s)$\n"
      ]
    },
    {
      "cell_type": "markdown",
      "metadata": {
        "id": "xMgCRP_-YdSE"
      },
      "source": [
        ""
      ]
    },
    {
      "cell_type": "code",
      "metadata": {
        "id": "8lDdgHjWZZR1"
      },
      "source": [
        "import numpy as np\n",
        "import matplotlib.pyplot as plt\n",
        "# better plots\n",
        "import seaborn as sns\n",
        "sns.set()"
      ],
      "execution_count": 2,
      "outputs": []
    },
    {
      "cell_type": "code",
      "metadata": {
        "id": "G5j9pwvVZuza"
      },
      "source": [
        "def max_relu(x):\n",
        "  return max(x, 0)"
      ],
      "execution_count": 5,
      "outputs": []
    },
    {
      "cell_type": "code",
      "metadata": {
        "colab": {
          "base_uri": "https://localhost:8080/"
        },
        "id": "1s4wS4IJZ6TI",
        "outputId": "d56c1041-e4f0-4b10-d193-515c52452e2c"
      },
      "source": [
        "# test max_relu\n",
        "for i in [-10, -5, 7, -4]:\n",
        "  print(max_relu(i))\n"
      ],
      "execution_count": 7,
      "outputs": [
        {
          "output_type": "stream",
          "name": "stdout",
          "text": [
            "0\n",
            "0\n",
            "7\n",
            "0\n"
          ]
        }
      ]
    },
    {
      "cell_type": "code",
      "metadata": {
        "id": "DcvFchCwaUkK"
      },
      "source": [
        "# create plot\n",
        "# from -10 to 10, step 0.1\n",
        "data = np.arange(-10, 10, 0.1)\n",
        "y_relu = [max_relu(x) for x in data]\n"
      ],
      "execution_count": 15,
      "outputs": []
    },
    {
      "cell_type": "code",
      "metadata": {
        "colab": {
          "base_uri": "https://localhost:8080/",
          "height": 301
        },
        "id": "sPNxcBrDavk0",
        "outputId": "bc45b9ce-c28b-4f98-d600-f90c6a4b9091"
      },
      "source": [
        "plt.plot(data, y_relu)\n",
        "plt.title(\"ReLU function\")"
      ],
      "execution_count": 17,
      "outputs": [
        {
          "output_type": "execute_result",
          "data": {
            "text/plain": [
              "Text(0.5, 1.0, 'ReLU function')"
            ]
          },
          "metadata": {},
          "execution_count": 17
        },
        {
          "output_type": "display_data",
          "data": {
            "image/png": "[encoded data removed]",
            "text/plain": [
              "<Figure size 432x288 with 1 Axes>"
            ]
          },
          "metadata": {}
        }
      ]
    },
    {
      "cell_type": "markdown",
      "metadata": {
        "id": "IZRu4wlpbtdu"
      },
      "source": [
        "### Sigmoid function\n",
        "\n",
        "$f(x) = \\frac{1}{1+e^{-x}}$"
      ]
    },
    {
      "cell_type": "code",
      "metadata": {
        "id": "A978caBDcQrC"
      },
      "source": [
        "def sigmoid(x):\n",
        "  return 1.0 / (1 + np.exp(-x))"
      ],
      "execution_count": 20,
      "outputs": []
    },
    {
      "cell_type": "code",
      "metadata": {
        "colab": {
          "base_uri": "https://localhost:8080/",
          "height": 301
        },
        "id": "QDIT9NX0cXiI",
        "outputId": "fa7d68a7-fae1-4ed2-b73a-c0c9a096109b"
      },
      "source": [
        "y_sigmoid = [sigmoid(x) for x in data]\n",
        "plt.plot(data, y_sigmoid)\n",
        "plt.title(\"sigmoid function\")\n"
      ],
      "execution_count": 22,
      "outputs": [
        {
          "output_type": "execute_result",
          "data": {
            "text/plain": [
              "Text(0.5, 1.0, 'sigmoid function')"
            ]
          },
          "metadata": {},
          "execution_count": 22
        },
        {
          "output_type": "display_data",
          "data": {
            "image/png": "[encoded data removed]",
            "text/plain": [
              "<Figure size 432x288 with 1 Axes>"
            ]
          },
          "metadata": {}
        }
      ]
    },
    {
      "cell_type": "markdown",
      "metadata": {
        "id": "GE81yth4daPM"
      },
      "source": [
        "### Softmax\n",
        "$S(y_i) = \\frac{e^{y_i}}{\\sum_{j=1}^{i}e^{y_j}}$"
      ]
    },
    {
      "cell_type": "code",
      "metadata": {
        "colab": {
          "base_uri": "https://localhost:8080/",
          "height": 143
        },
        "id": "w0HhhrwGcvgZ",
        "outputId": "3e0b611c-f130-4745-ec6c-a35b028065b2"
      },
      "source": [
        "data = np.random.randn(3, 5)\n",
        "data\n",
        "import pandas as pd\n",
        "df = pd.DataFrame(data)\n",
        "df"
      ],
      "execution_count": 24,
      "outputs": [
        {
          "output_type": "execute_result",
          "data": {
            "text/html": [
              "<div>\n",
              "<style scoped>\n",
              "    .dataframe tbody tr th:only-of-type {\n",
              "        vertical-align: middle;\n",
              "    }\n",
              "\n",
              "    .dataframe tbody tr th {\n",
              "        vertical-align: top;\n",
              "    }\n",
              "\n",
              "    .dataframe thead th {\n",
              "        text-align: right;\n",
              "    }\n",
              "</style>\n",
              "<table border=\"1\" class=\"dataframe\">\n",
              "  <thead>\n",
              "    <tr style=\"text-align: right;\">\n",
              "      <th></th>\n",
              "      <th>0</th>\n",
              "      <th>1</th>\n",
              "      <th>2</th>\n",
              "      <th>3</th>\n",
              "      <th>4</th>\n",
              "    </tr>\n",
              "  </thead>\n",
              "  <tbody>\n",
              "    <tr>\n",
              "      <th>0</th>\n",
              "      <td>1.708747</td>\n",
              "      <td>0.087119</td>\n",
              "      <td>0.213197</td>\n",
              "      <td>0.453839</td>\n",
              "      <td>-0.402268</td>\n",
              "    </tr>\n",
              "    <tr>\n",
              "      <th>1</th>\n",
              "      <td>0.999728</td>\n",
              "      <td>0.367075</td>\n",
              "      <td>0.293114</td>\n",
              "      <td>0.728259</td>\n",
              "      <td>1.309119</td>\n",
              "    </tr>\n",
              "    <tr>\n",
              "      <th>2</th>\n",
              "      <td>0.530514</td>\n",
              "      <td>-1.580742</td>\n",
              "      <td>0.463199</td>\n",
              "      <td>-1.136685</td>\n",
              "      <td>-1.959187</td>\n",
              "    </tr>\n",
              "  </tbody>\n",
              "</table>\n",
              "</div>"
            ],
            "text/plain": [
              "          0         1         2         3         4\n",
              "0  1.708747  0.087119  0.213197  0.453839 -0.402268\n",
              "1  0.999728  0.367075  0.293114  0.728259  1.309119\n",
              "2  0.530514 -1.580742  0.463199 -1.136685 -1.959187"
            ]
          },
          "metadata": {},
          "execution_count": 24
        }
      ]
    },
    {
      "cell_type": "code",
      "metadata": {
        "colab": {
          "base_uri": "https://localhost:8080/",
          "height": 143
        },
        "id": "nyRtpntad9C4",
        "outputId": "242f52d8-29ed-41ed-c801-998f51db3e44"
      },
      "source": [
        "# pozbylismy sie wartosci ujemnych\n",
        "np.exp(df)"
      ],
      "execution_count": 26,
      "outputs": [
        {
          "output_type": "execute_result",
          "data": {
            "text/html": [
              "<div>\n",
              "<style scoped>\n",
              "    .dataframe tbody tr th:only-of-type {\n",
              "        vertical-align: middle;\n",
              "    }\n",
              "\n",
              "    .dataframe tbody tr th {\n",
              "        vertical-align: top;\n",
              "    }\n",
              "\n",
              "    .dataframe thead th {\n",
              "        text-align: right;\n",
              "    }\n",
              "</style>\n",
              "<table border=\"1\" class=\"dataframe\">\n",
              "  <thead>\n",
              "    <tr style=\"text-align: right;\">\n",
              "      <th></th>\n",
              "      <th>0</th>\n",
              "      <th>1</th>\n",
              "      <th>2</th>\n",
              "      <th>3</th>\n",
              "      <th>4</th>\n",
              "    </tr>\n",
              "  </thead>\n",
              "  <tbody>\n",
              "    <tr>\n",
              "      <th>0</th>\n",
              "      <td>5.522040</td>\n",
              "      <td>1.091026</td>\n",
              "      <td>1.237629</td>\n",
              "      <td>1.574344</td>\n",
              "      <td>0.668802</td>\n",
              "    </tr>\n",
              "    <tr>\n",
              "      <th>1</th>\n",
              "      <td>2.717544</td>\n",
              "      <td>1.443506</td>\n",
              "      <td>1.340596</td>\n",
              "      <td>2.071470</td>\n",
              "      <td>3.702911</td>\n",
              "    </tr>\n",
              "    <tr>\n",
              "      <th>2</th>\n",
              "      <td>1.699805</td>\n",
              "      <td>0.205822</td>\n",
              "      <td>1.589149</td>\n",
              "      <td>0.320881</td>\n",
              "      <td>0.140973</td>\n",
              "    </tr>\n",
              "  </tbody>\n",
              "</table>\n",
              "</div>"
            ],
            "text/plain": [
              "          0         1         2         3         4\n",
              "0  5.522040  1.091026  1.237629  1.574344  0.668802\n",
              "1  2.717544  1.443506  1.340596  2.071470  3.702911\n",
              "2  1.699805  0.205822  1.589149  0.320881  0.140973"
            ]
          },
          "metadata": {},
          "execution_count": 26
        }
      ]
    },
    {
      "cell_type": "code",
      "metadata": {
        "colab": {
          "base_uri": "https://localhost:8080/"
        },
        "id": "dXAQz-o4eH3A",
        "outputId": "843e009c-6ebe-44c6-8e23-413b7e6b991c"
      },
      "source": [
        "# sumujemy kolumny\n",
        "np.sum(np.exp(df), axis=0)"
      ],
      "execution_count": 27,
      "outputs": [
        {
          "output_type": "execute_result",
          "data": {
            "text/plain": [
              "0    9.939389\n",
              "1    2.740354\n",
              "2    4.167374\n",
              "3    3.966696\n",
              "4    4.512686\n",
              "dtype: float64"
            ]
          },
          "metadata": {},
          "execution_count": 27
        }
      ]
    },
    {
      "cell_type": "code",
      "metadata": {
        "colab": {
          "base_uri": "https://localhost:8080/",
          "height": 143
        },
        "id": "SqO0iXUoefFn",
        "outputId": "4fde26b6-d11b-4e4f-867a-12f1823029ae"
      },
      "source": [
        "# pstwa przynaleznosci do danej klasy (dla 4 punktow)\n",
        "res = np.exp(df) / np.sum(np.exp(df), axis=0)\n",
        "res"
      ],
      "execution_count": 33,
      "outputs": [
        {
          "output_type": "execute_result",
          "data": {
            "text/html": [
              "<div>\n",
              "<style scoped>\n",
              "    .dataframe tbody tr th:only-of-type {\n",
              "        vertical-align: middle;\n",
              "    }\n",
              "\n",
              "    .dataframe tbody tr th {\n",
              "        vertical-align: top;\n",
              "    }\n",
              "\n",
              "    .dataframe thead th {\n",
              "        text-align: right;\n",
              "    }\n",
              "</style>\n",
              "<table border=\"1\" class=\"dataframe\">\n",
              "  <thead>\n",
              "    <tr style=\"text-align: right;\">\n",
              "      <th></th>\n",
              "      <th>0</th>\n",
              "      <th>1</th>\n",
              "      <th>2</th>\n",
              "      <th>3</th>\n",
              "      <th>4</th>\n",
              "    </tr>\n",
              "  </thead>\n",
              "  <tbody>\n",
              "    <tr>\n",
              "      <th>0</th>\n",
              "      <td>0.555571</td>\n",
              "      <td>0.398133</td>\n",
              "      <td>0.296981</td>\n",
              "      <td>0.396891</td>\n",
              "      <td>0.148205</td>\n",
              "    </tr>\n",
              "    <tr>\n",
              "      <th>1</th>\n",
              "      <td>0.273412</td>\n",
              "      <td>0.526759</td>\n",
              "      <td>0.321688</td>\n",
              "      <td>0.522216</td>\n",
              "      <td>0.820556</td>\n",
              "    </tr>\n",
              "    <tr>\n",
              "      <th>2</th>\n",
              "      <td>0.171017</td>\n",
              "      <td>0.075108</td>\n",
              "      <td>0.381331</td>\n",
              "      <td>0.080894</td>\n",
              "      <td>0.031239</td>\n",
              "    </tr>\n",
              "  </tbody>\n",
              "</table>\n",
              "</div>"
            ],
            "text/plain": [
              "          0         1         2         3         4\n",
              "0  0.555571  0.398133  0.296981  0.396891  0.148205\n",
              "1  0.273412  0.526759  0.321688  0.522216  0.820556\n",
              "2  0.171017  0.075108  0.381331  0.080894  0.031239"
            ]
          },
          "metadata": {},
          "execution_count": 33
        }
      ]
    },
    {
      "cell_type": "code",
      "metadata": {
        "colab": {
          "base_uri": "https://localhost:8080/"
        },
        "id": "veqdZajCeoO1",
        "outputId": "d25c62da-1be8-4c3f-e605-f2af455d7a54"
      },
      "source": [
        "# proawopodobienstwa przynalznosci do danej klasy (0 lub 1 lub 2)\n",
        "np.sum(res, axis=0)"
      ],
      "execution_count": 34,
      "outputs": [
        {
          "output_type": "execute_result",
          "data": {
            "text/plain": [
              "0    1.0\n",
              "1    1.0\n",
              "2    1.0\n",
              "3    1.0\n",
              "4    1.0\n",
              "dtype: float64"
            ]
          },
          "metadata": {},
          "execution_count": 34
        }
      ]
    },
    {
      "cell_type": "markdown",
      "metadata": {
        "id": "ZLFf6309fYZK"
      },
      "source": [
        "### Tanh\n",
        "$tanh(x)=\\frac{e^x-e^{-x}}{e^x+e^{-x}}$"
      ]
    },
    {
      "cell_type": "code",
      "metadata": {
        "id": "kmRXEvJkfqJc"
      },
      "source": [
        "def tanh(x):\n",
        "  return (np.exp(x) - np.exp(-x)) / (np.exp(x) + np.exp(-x))"
      ],
      "execution_count": 35,
      "outputs": []
    },
    {
      "cell_type": "code",
      "metadata": {
        "colab": {
          "base_uri": "https://localhost:8080/"
        },
        "id": "s2ZgaH4if46f",
        "outputId": "36ad0788-dc72-4837-a372-76edb2d63ad0"
      },
      "source": [
        "for i in [-2, -1, 0, 1, 2]:\n",
        "  print(tanh(i))"
      ],
      "execution_count": 37,
      "outputs": [
        {
          "output_type": "stream",
          "name": "stdout",
          "text": [
            "-0.964027580075817\n",
            "-0.7615941559557649\n",
            "0.0\n",
            "0.7615941559557649\n",
            "0.964027580075817\n"
          ]
        }
      ]
    },
    {
      "cell_type": "code",
      "metadata": {
        "colab": {
          "base_uri": "https://localhost:8080/",
          "height": 301
        },
        "id": "Ye0Cq0ffgAsu",
        "outputId": "aae5d8fa-f550-4a8e-80f7-c1e9d11c1748"
      },
      "source": [
        "data = np.arange(-10, 10, 0.1)\n",
        "y_tanh = [tanh(x) for x in data]\n",
        "\n",
        "plt.plot(data, y_tanh)\n",
        "plt.title(\"Tanh function\")"
      ],
      "execution_count": 41,
      "outputs": [
        {
          "output_type": "execute_result",
          "data": {
            "text/plain": [
              "Text(0.5, 1.0, 'Tanh function')"
            ]
          },
          "metadata": {},
          "execution_count": 41
        },
        {
          "output_type": "display_data",
          "data": {
            "image/png": "[encoded data removed]",
            "text/plain": [
              "<Figure size 432x288 with 1 Axes>"
            ]
          },
          "metadata": {}
        }
      ]
    },
    {
      "cell_type": "code",
      "metadata": {
        "id": "8nrdMqi7gXQs"
      },
      "source": [
        ""
      ],
      "execution_count": null,
      "outputs": []
    }
  ]
}